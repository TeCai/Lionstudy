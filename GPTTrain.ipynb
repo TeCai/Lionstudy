{
 "cells": [
  {
   "cell_type": "code",
   "execution_count": 10,
   "metadata": {
    "tags": []
   },
   "outputs": [],
   "source": [
    "import torch\n",
    "from transformers import AutoTokenizer, GPT2ForSequenceClassification, get_linear_schedule_with_warmup, get_polynomial_decay_schedule_with_warmup, Adafactor\n",
    "import torch.nn as nn\n",
    "import logging\n",
    "from lion_pytorch import Lion\n",
    "from torch.utils.data import DataLoader\n",
    "import GLUEGPT\n",
    "from torch.optim.lr_scheduler import LambdaLR\n",
    "from functools import partial\n",
    "import numpy as np\n",
    "from sklearn.metrics import matthews_corrcoef\n",
    "from pathlib import Path\n",
    "import matplotlib.pyplot as plt\n",
    "\n",
    "dataset_name = 'cola'\n",
    "model_name = 'gpt2'\n",
    "current_path = Path.cwd().parents[0] / dataset_name\n",
    "current_path.mkdir(exist_ok=True)\n",
    "\n",
    "lr_list = [3e-4]\n",
    "scheduler_list = ['no']\n",
    "optimizer_list = ['AdamW']\n",
    "batch_size_list = [32]\n",
    "steps = 1\n",
    "report_step = 50\n",
    "\n",
    "tokenizer = AutoTokenizer.from_pretrained('gpt2')\n",
    "tokenizer.pad_token = tokenizer.eos_token\n",
    "\n",
    "\n",
    "train_dataset, _, test_dataset = GLUEGPT.get_torch_dataset(tokenizer, \"cola\", padding=\"max_length\", truncation=True, max_length=64)\n",
    "\n",
    "\n"
   ]
  },
  {
   "cell_type": "code",
   "execution_count": 6,
   "metadata": {
    "collapsed": false,
    "jupyter": {
     "outputs_hidden": false
    }
   },
   "outputs": [],
   "source": [
    "def constant_scheduler(\n",
    "    optimizer, num_warmup_steps, num_training_steps, lr_end=1e-7, power=1.0, last_epoch=-1\n",
    "):\n",
    "    def lambda_func(step: int):\n",
    "        return 1.\n",
    "\n",
    "    return LambdaLR(optimizer, lambda_func, last_epoch)\n",
    "\n",
    "\n",
    "def prepare(sche, opt):\n",
    "    if sche == 'no':\n",
    "        sches = partial(constant_scheduler)\n",
    "    if sche == 'linear':\n",
    "        sches = partial(get_linear_schedule_with_warmup)\n",
    "    if sche == 'ord10':\n",
    "        sches = partial(get_polynomial_decay_schedule_with_warmup, power=10.0)\n",
    "\n",
    "    if opt == 'Lion':\n",
    "        opts = partial(Lion, betas=(0.95, 0.98), weight_decay=0.01)\n",
    "    if opt == 'AdaFactor':\n",
    "        opts = partial(Adafactor, weight_decay=0.001, relative_step=False, scale_parameter=False)\n",
    "    if opt == 'AdamW':\n",
    "        opts = partial(torch.optim.AdamW, betas=(0.9, 0.99), weight_decay=0.001)\n",
    "\n",
    "    return sches, opts\n",
    "\n",
    "\n",
    "def get_log(file_name):\n",
    "    logger = logging.getLogger('train')\n",
    "    logger.setLevel(logging.INFO)\n",
    "\n",
    "    ch = logging.StreamHandler()\n",
    "    ch.setLevel(logging.INFO)\n",
    "\n",
    "    fh = logging.FileHandler(file_name, mode='a')\n",
    "    fh.setLevel(logging.INFO)\n",
    "\n",
    "    formatter = logging.Formatter('%(asctime)s - %(levelname)s - %(message)s')\n",
    "    ch.setFormatter(formatter)\n",
    "    fh.setFormatter(formatter)\n",
    "    logger.addHandler(fh)\n",
    "    logger.addHandler(ch)\n",
    "    return logger\n",
    "\n",
    "\n",
    "logger = get_log('log1.txt')"
   ]
  },
  {
   "cell_type": "code",
   "execution_count": 7,
   "metadata": {
    "collapsed": false,
    "jupyter": {
     "outputs_hidden": false
    }
   },
   "outputs": [],
   "source": [
    "device = torch.device(\"cuda\") if torch.cuda.is_available() else torch.device(\"cpu\")\n",
    "\n",
    "def evaluate(model, dataset):\n",
    "    model.eval()\n",
    "    eval_loader = DataLoader(dataset, shuffle=False, batch_size=32)\n",
    "    logits = []\n",
    "    labelss = []\n",
    "    with torch.no_grad():\n",
    "        for X in eval_loader:\n",
    "            batch = {k: v.to(device) for k, v in X.items()}\n",
    "            logits.append(model(**batch).logits)\n",
    "            labelss.append(batch['labels'])\n",
    "        total_test = torch.concat(logits, dim=0)\n",
    "        _, predicted = torch.max(total_test, dim=1)\n",
    "        real_label = torch.concat(labelss, dim=0).cpu().numpy()\n",
    "        predicted = predicted.cpu().numpy()\n",
    "        metric = matthews_corrcoef(real_label, predicted)\n",
    "        acc = np.mean(predicted == real_label)\n",
    "\n",
    "    return metric, acc"
   ]
  },
  {
   "cell_type": "code",
   "execution_count": 11,
   "metadata": {
    "collapsed": false,
    "jupyter": {
     "outputs_hidden": false
    }
   },
   "outputs": [
    {
     "name": "stderr",
     "output_type": "stream",
     "text": [
      "Some weights of GPT2ForSequenceClassification were not initialized from the model checkpoint at gpt2 and are newly initialized: ['score.weight']\n",
      "You should probably TRAIN this model on a down-stream task to be able to use it for predictions and inference.\n"
     ]
    },
    {
     "name": "stdout",
     "output_type": "stream",
     "text": [
      "Start training for: sche:no,opt:AdamW,batchsize:32, lr:0.0003\n"
     ]
    },
    {
     "name": "stderr",
     "output_type": "stream",
     "text": [
      "2023-03-23 21:30:42,145 - INFO - step:0, matthews_corr:0.000000, Acc:69.127517%\n"
     ]
    },
    {
     "name": "stdout",
     "output_type": "stream",
     "text": [
      "step:0, matthews_corr:0.000000, Acc:69.127517%\n",
      "step: 1, loss:1.80278015\n",
      "step: 2, loss:0.73458338\n",
      "step: 3, loss:0.66321677\n",
      "step: 4, loss:1.29369426\n",
      "step: 5, loss:1.66213071\n",
      "step: 6, loss:0.66229957\n",
      "step: 7, loss:0.93731743\n",
      "step: 8, loss:0.89336407\n",
      "step: 9, loss:0.70728761\n",
      "step: 10, loss:0.79311323\n"
     ]
    }
   ],
   "source": [
    "for i, this_batch_size in enumerate(batch_size_list):\n",
    "    for j, this_scheduler in enumerate(scheduler_list):\n",
    "        for k, this_optimizer in enumerate(optimizer_list):\n",
    "            for m, this_lr in enumerate(lr_list):\n",
    "                loss_list = []\n",
    "                metric_list = []\n",
    "                acc_list = []\n",
    "                train_metric_list = []\n",
    "                train_acc_list = []\n",
    "                model = GPT2ForSequenceClassification.from_pretrained('gpt2', num_labels=2)\n",
    "                model.config.pad_token_id = tokenizer.pad_token_id\n",
    "                model.to(device)\n",
    "                train_loader = DataLoader(train_dataset, batch_size=this_batch_size)\n",
    "                sche, opt = prepare(this_scheduler, this_optimizer)\n",
    "                optimizer = opt(model.parameters(), lr=this_lr if this_scheduler == 'no' else this_lr * 2)\n",
    "                scheduler = sche(optimizer, num_warmup_steps=int(steps / 10), num_training_steps=steps)\n",
    "                step = 0\n",
    "                print(f'Start training for: sche:{this_scheduler},opt:{this_optimizer},batchsize:{this_batch_size}, lr:{this_lr}')\n",
    "                metric, acc = evaluate(model, test_dataset)\n",
    "                metric_list.append(metric)\n",
    "                acc_list.append(acc)\n",
    "                tmetric, tacc = evaluate(model, train_dataset)\n",
    "                train_metric_list.append(tmetric)\n",
    "                train_acc_list.append(tacc)\n",
    "                print(f\"step:{step}, matthews_corr:{metric:.6f}, Acc:{acc*100:4f}%, Train: matthews_corr:{tmetric:.6f}, Acc:{tacc*100:4f}%,\")\n",
    "\n",
    "                logger.info(f\"step:{step}, matthews_corr:{metric:.6f}, Acc:{acc*100:4f}%, Train: matthews_corr:{tmetric:.6f}, Acc:{tacc*100:4f}%,\")\n",
    "\n",
    "                while True:\n",
    "                    for X in train_loader:\n",
    "                        model.train()\n",
    "                        optimizer.zero_grad()\n",
    "                        batch = {k: v.to(device) for k, v in X.items()}\n",
    "                        loss = model(**batch).loss\n",
    "                        print(f\"step: {step+1}, loss:{loss.item():.8f}\")\n",
    "\n",
    "                        loss_list.append(loss.item())\n",
    "                        loss.backward()\n",
    "                        optimizer.step()\n",
    "                        scheduler.step()\n",
    "                        step += 1\n",
    "\n",
    "                        if step % report_step == 0:\n",
    "                            metric, acc = evaluate(model, test_dataset)\n",
    "                            metric_list.append(metric)\n",
    "                            acc_list.append(acc)\n",
    "                            tmetric, tacc = evaluate(model, train_dataset)\n",
    "                            train_metric_list.append(tmetric)\n",
    "                            train_acc_list.append(tacc)\n",
    "                            logger.info(f\"step:{step}, matthews_corr:{metric:.6f}, Acc:{acc*100:4f}%, Train: matthews_corr:{tmetric:.6f}, Acc:{tacc*100:4f}%,\")\n",
    "\n",
    "                        if step == steps:\n",
    "                            break\n",
    "                    if step == steps:\n",
    "                        break\n",
    "\n",
    "                file_name = dataset_name+ model_name + \",batchsize\" + str(this_batch_size) + \",scheduler\" + this_scheduler + \",optimizer\" + str(this_optimizer) + \",LR\" + str(this_lr)\n",
    "                np.save(current_path / (file_name + 'loss.npy'), np.array(loss_list))\n",
    "                np.save(current_path / (file_name + 'metric.npy'), np.array(metric_list))\n",
    "                np.save(current_path / (file_name + 'acc.npy'), np.array(acc_list))\n",
    "                np.save(current_path / (file_name + 'trainmetric.npy'), np.array(train_metric_list))\n",
    "                np.save(current_path / (file_name + 'trainacc.npy'), np.array(train_acc_list))\n",
    "\n",
    "                del model\n",
    "                del optimizer\n",
    "                del scheduler\n",
    "                del train_loader\n",
    "                torch.cuda.empty_cache()"
   ]
  },
  {
   "cell_type": "code",
   "execution_count": null,
   "metadata": {},
   "outputs": [],
   "source": []
  }
 ],
 "metadata": {
  "kernelspec": {
   "display_name": "Python 3 (ipykernel)",
   "language": "python",
   "name": "python3"
  },
  "language_info": {
   "codemirror_mode": {
    "name": "ipython",
    "version": 3
   },
   "file_extension": ".py",
   "mimetype": "text/x-python",
   "name": "python",
   "nbconvert_exporter": "python",
   "pygments_lexer": "ipython3",
   "version": "3.10.8"
  }
 },
 "nbformat": 4,
 "nbformat_minor": 4
}
