{
 "cells": [
  {
   "cell_type": "code",
   "execution_count": 1,
   "metadata": {
    "collapsed": true
   },
   "outputs": [],
   "source": [
    "import torch\n",
    "from transformers import AutoTokenizer, BertForSequenceClassification, get_linear_schedule_with_warmup,get_polynomial_decay_schedule_with_warmup, Adafactor\n",
    "import torch.nn as nn\n",
    "import logging\n",
    "from lion_pytorch import Lion\n",
    "from torch.utils.data import DataLoader\n",
    "import GLUE\n",
    "from torch.optim.lr_scheduler import LambdaLR\n",
    "from functools import partial\n",
    "import numpy as np\n",
    "from sklearn.metrics import matthews_corrcoef\n",
    "from pathlib import Path\n",
    "import matplotlib.pyplot as plt"
   ]
  },
  {
   "cell_type": "code",
   "execution_count": 2,
   "metadata": {
    "collapsed": false
   },
   "outputs": [],
   "source": [
    "\n",
    "dataset_name = 'cola'\n",
    "current_path = Path.cwd().parents[0]/dataset_name\n",
    "current_path.mkdir(exist_ok=True)\n",
    "# lr_list = [3e-5,3e-4,3e-3]\n",
    "# scheduler_list = ['no', 'linear' ,'ord10']\n",
    "# optimizer_list = ['Lion', 'AdamW','AdaFactor']\n",
    "# batch_size_list = [32,64,128]\n",
    "# steps = 50*1000\n",
    "lr_list = [3e-7,3e-6,3e-5]\n",
    "scheduler_list = ['no','linear']\n",
    "optimizer_list = ['Lion','AdamW']\n",
    "batch_size_list = [32]\n",
    "steps = 4*1000\n",
    "report_step = 50"
   ]
  },
  {
   "cell_type": "code",
   "execution_count": 3,
   "metadata": {
    "collapsed": false
   },
   "outputs": [
    {
     "name": "stderr",
     "output_type": "stream",
     "text": [
      "Found cached dataset glue (C:/Users/Xiang/.cache/huggingface/datasets/mariosasko___glue/cola/1.0.0/dacbe3125aa31d7f70367a07a8a9e72a5a0bfeb5fc42e75c9db75b96da6053ad)\n"
     ]
    },
    {
     "data": {
      "application/vnd.jupyter.widget-view+json": {
       "model_id": "95e837fc1c8f4554a13d7493e0a400b1",
       "version_major": 2,
       "version_minor": 0
      },
      "text/plain": [
       "  0%|          | 0/3 [00:00<?, ?it/s]"
      ]
     },
     "metadata": {},
     "output_type": "display_data"
    },
    {
     "name": "stderr",
     "output_type": "stream",
     "text": [
      "Loading cached processed dataset at C:\\Users\\Xiang\\.cache\\huggingface\\datasets\\mariosasko___glue\\cola\\1.0.0\\dacbe3125aa31d7f70367a07a8a9e72a5a0bfeb5fc42e75c9db75b96da6053ad\\cache-2bc0360bf4726f4f.arrow\n",
      "Loading cached processed dataset at C:\\Users\\Xiang\\.cache\\huggingface\\datasets\\mariosasko___glue\\cola\\1.0.0\\dacbe3125aa31d7f70367a07a8a9e72a5a0bfeb5fc42e75c9db75b96da6053ad\\cache-77227c16e4defc4f.arrow\n",
      "Loading cached processed dataset at C:\\Users\\Xiang\\.cache\\huggingface\\datasets\\mariosasko___glue\\cola\\1.0.0\\dacbe3125aa31d7f70367a07a8a9e72a5a0bfeb5fc42e75c9db75b96da6053ad\\cache-c61c89821cd722e6.arrow\n"
     ]
    }
   ],
   "source": [
    "tokenizer = AutoTokenizer.from_pretrained('bert-base-uncased')\n",
    "train_dataset,_,test_dataset = GLUE.get_torch_dataset(tokenizer, \"cola\", padding=\"max_length\", truncation=True, max_length = 64)\n",
    "\n",
    "def constant_scheduler(\n",
    "    optimizer, num_warmup_steps, num_training_steps, lr_end=1e-7, power=1.0, last_epoch=-1\n",
    "):\n",
    "    def lambda_func(step:int):\n",
    "        return 1.\n",
    "\n",
    "    return LambdaLR(optimizer, lambda_func, last_epoch)\n",
    "\n",
    "def prepare(sche, opt):\n",
    "    if sche == 'no':\n",
    "        sches = partial(constant_scheduler)\n",
    "    if sche == 'linear':\n",
    "        sches = partial(get_linear_schedule_with_warmup)\n",
    "    if sche == 'ord10':\n",
    "        sches = partial(get_polynomial_decay_schedule_with_warmup,power = 10.0)\n",
    "\n",
    "    if opt == 'Lion':\n",
    "        opts = partial(Lion, betas = (0.95,0.98), weight_decay = 0.01)\n",
    "    if opt == 'AdaFactor':\n",
    "        opts = partial(Adafactor, weight_decay = 0.001, relative_step = False, scale_parameter=False)\n",
    "    if opt == 'AdamW':\n",
    "        opts = partial(torch.optim.AdamW, betas = (0.9,0.99), weight_decay = 0.001)\n",
    "\n",
    "\n",
    "    return sches, opts"
   ]
  },
  {
   "cell_type": "code",
   "execution_count": 4,
   "metadata": {
    "collapsed": false
   },
   "outputs": [],
   "source": [
    "\n",
    "\n",
    "def get_log(file_name):\n",
    "    logger = logging.getLogger('train')  # 设定logger的名字\n",
    "    logger.setLevel(logging.INFO)  # 设定logger得等级\n",
    "\n",
    "    ch = logging.StreamHandler()  # 输出流的hander，用与设定logger的各种信息\n",
    "    ch.setLevel(logging.INFO)  # 设定输出hander的level\n",
    "\n",
    "    fh = logging.FileHandler(file_name, mode='a')  # 文件流的hander，输出得文件名称，以及mode设置为覆盖模式\n",
    "    fh.setLevel(logging.INFO)  # 设定文件hander得lever\n",
    "\n",
    "    formatter = logging.Formatter('%(asctime)s - %(levelname)s - %(message)s')\n",
    "    ch.setFormatter(formatter)  # 两个hander设置个是，输出得信息包括，时间，信息得等级，以及message\n",
    "    fh.setFormatter(formatter)\n",
    "    logger.addHandler(fh)  # 将两个hander添加到我们声明的logger中去\n",
    "    logger.addHandler(ch)\n",
    "    return logger"
   ]
  },
  {
   "cell_type": "code",
   "execution_count": 5,
   "metadata": {
    "collapsed": false
   },
   "outputs": [],
   "source": [
    "logger = get_log('log1.txt')"
   ]
  },
  {
   "cell_type": "code",
   "execution_count": 6,
   "metadata": {
    "collapsed": false
   },
   "outputs": [],
   "source": [
    "# test_loader = DataLoader(test_dataset, shuffle = False, batch_size = 32)\n",
    "device = torch.device(\"cuda\") if torch.cuda.is_available() else torch.device(\"cpu\")"
   ]
  },
  {
   "cell_type": "code",
   "execution_count": 7,
   "metadata": {
    "collapsed": false
   },
   "outputs": [],
   "source": [
    "def evaluate(model, dataset):\n",
    "    model.eval()\n",
    "    eval_loader = DataLoader(dataset, shuffle = False, batch_size = 32)\n",
    "    logits = []\n",
    "    labelss = []\n",
    "    with torch.no_grad():\n",
    "        for X in eval_loader:\n",
    "            batch = {k: v.to(device) for k, v in X.items()}\n",
    "            logits.append(model(**batch).logits)\n",
    "            labelss.append(batch['labels'])\n",
    "        total_test = torch.concatenate(logits, dim = 0)\n",
    "        _,predicted = torch.max(total_test,dim = 1)\n",
    "        real_label =torch.concatenate(labelss,dim=0).cpu().numpy()\n",
    "        predicted = predicted.cpu().numpy()\n",
    "        metric = matthews_corrcoef(real_label, predicted)\n",
    "        acc = np.mean(predicted==real_label)\n",
    "\n",
    "    return metric, acc"
   ]
  },
  {
   "cell_type": "code",
   "execution_count": null,
   "metadata": {
    "collapsed": false,
    "pycharm": {
     "is_executing": true
    }
   },
   "outputs": [],
   "source": [
    "# Training\n",
    "\n",
    "# loss_mat = np.zeros((len(batch_size_list),len(scheduler_list), len(optimizer_list), len(lr_list),steps))\n",
    "\n",
    " # evaluate test metric each step\n",
    "# metric_mat = np.zeros((len(batch_size_list),len(scheduler_list), len(optimizer_list), len(lr_list),steps//report_step,2))\n",
    "for i,this_batch_size in enumerate(batch_size_list):\n",
    "    for j,this_scheduler in enumerate(scheduler_list):\n",
    "        for k,this_optimizer in enumerate(optimizer_list):\n",
    "            for m, this_lr in enumerate(lr_list):\n",
    "                loss_list = []\n",
    "                metric_list = []\n",
    "                acc_list = []\n",
    "                train_metric_list = []\n",
    "                train_acc_list = []\n",
    "                model = BertForSequenceClassification.from_pretrained(\"bert-base-uncased\").to(device)\n",
    "                train_loader = DataLoader(train_dataset, batch_size=this_batch_size)\n",
    "                sche, opt = prepare(this_scheduler, this_optimizer)\n",
    "                optimizer = opt(model.parameters(), lr = this_lr if this_scheduler == 'no' else this_lr*2)\n",
    "                scheduler = sche(optimizer, num_warmup_steps=int(steps/10),num_training_steps=steps)\n",
    "                step = 0\n",
    "\n",
    "                metric,acc = evaluate(model,test_dataset)\n",
    "                # print(i,j,k,m,step//report_step)\n",
    "                metric_list.append(metric)\n",
    "                acc_list.append(acc)\n",
    "                tmetric, tacc = evaluate(model, train_dataset)\n",
    "                train_metric_list.append(tmetric)\n",
    "                train_acc_list.append(tacc)\n",
    "                # metric_mat[i,j,k,m,step//report_step - 1,0] = metric\n",
    "                # metric_mat[i,j,k,m,step//report_step - 1,1] = acc\n",
    "                print(f\"step:{step}, matthews_corr:{metric:.6f}, Acc:{acc*100:4f}%, Train: matthews_corr:{tmetric:.6f}, Acc:{tacc*100:4f}%,\")\n",
    "\n",
    "                # print(f'Start training for: sche:{this_scheduler},opt:{this_optimizer},batchsize:{this_batch_size}, lr:{this_lr}')\n",
    "                logger.info(f'Start training for: sche:{this_scheduler},opt:{this_optimizer},batchsize:{this_batch_size}, lr:{this_lr}')\n",
    "                while True:\n",
    "\n",
    "                    for X in train_loader:\n",
    "                        model.train()\n",
    "                        optimizer.zero_grad()\n",
    "                        batch = {k: v.to(device) for k, v in X.items()}\n",
    "                        loss = model(**batch).loss\n",
    "                        print(f\"step: {step+1}, loss:{loss.item():.8f}\")\n",
    "\n",
    "                        # loss_mat[i,j,k,m,step] = loss.item()\n",
    "                        loss_list.append(loss.item())\n",
    "                        loss.backward()\n",
    "                        optimizer.step()\n",
    "                        scheduler.step()\n",
    "                        step += 1\n",
    "\n",
    "                    # valid\n",
    "                        if step % report_step == 0:\n",
    "\n",
    "                            metric,acc = evaluate(model,test_dataset)\n",
    "                            # print(i,j,k,m,step//report_step)\n",
    "                            metric_list.append(metric)\n",
    "                            acc_list.append(acc)\n",
    "                            tmetric, tacc = evaluate(model, train_dataset)\n",
    "                            train_metric_list.append(tmetric)\n",
    "                            train_acc_list.append(tacc)\n",
    "                            # metric_mat[i,j,k,m,step//report_step - 1,0] = metric\n",
    "                            # metric_mat[i,j,k,m,step//report_step - 1,1] = acc\n",
    "                            # print(f\"step:{step}, matthews_corr:{metric:.6f}, Acc:{acc*100:4f}%\")\n",
    "                            logger.info(f\"step:{step}, matthews_corr:{metric:.6f}, Acc:{acc*100:4f}%, Train: matthews_corr:{tmetric:.6f}, Acc:{tacc*100:4f}%,\")\n",
    "\n",
    "                        if step == steps:\n",
    "                            break\n",
    "                    if step == steps:\n",
    "                      break\n",
    "                file_name = dataset_name+\",batchsize\"+str(this_batch_size)+\",scheduler\"+this_scheduler+\",optimizer\"+str(this_optimizer)+\",LR\"+str(this_lr)\n",
    "                np.save(current_path/(file_name+'loss.npy'),np.array(loss_list))\n",
    "                np.save(current_path/(file_name+'metric.npy'),np.array(metric_list))\n",
    "                np.save(current_path/(file_name+'acc.npy'),np.array(acc_list))\n",
    "                np.save(current_path/(file_name+'trainmetric.npy'),np.array(train_metric_list))\n",
    "                np.save(current_path/(file_name+'trainacc.npy'),np.array(train_acc_list))\n",
    "\n",
    "                del model\n",
    "                del optimizer\n",
    "                del scheduler\n",
    "                del train_loader\n",
    "                torch.cuda.empty_cache()\n",
    "\n",
    "\n",
    "\n",
    "\n",
    "\n",
    "\n"
   ]
  }
 ],
 "metadata": {
  "kernelspec": {
   "display_name": "Python 3",
   "language": "python",
   "name": "python3"
  },
  "language_info": {
   "codemirror_mode": {
    "name": "ipython",
    "version": 2
   },
   "file_extension": ".py",
   "mimetype": "text/x-python",
   "name": "python",
   "nbconvert_exporter": "python",
   "pygments_lexer": "ipython2",
   "version": "2.7.6"
  }
 },
 "nbformat": 4,
 "nbformat_minor": 0
}
