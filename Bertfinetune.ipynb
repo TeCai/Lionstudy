{
 "cells": [
  {
   "cell_type": "code",
   "execution_count": 1,
   "metadata": {
    "collapsed": true
   },
   "outputs": [],
   "source": [
    "import torch\n",
    "from transformers import AutoTokenizer, BertForSequenceClassification, get_linear_schedule_with_warmup,get_polynomial_decay_schedule_with_warmup\n",
    "import torch.nn as nn\n",
    "import logging\n",
    "from lion_pytorch import Lion\n",
    "from torch.utils.data import DataLoader\n",
    "import GLUE\n",
    "from torch.optim.lr_scheduler import LambdaLR\n",
    "from functools import partial\n",
    "import numpy as np\n",
    "from sklearn.metrics import matthews_corrcoef\n",
    "import matplotlib.pyplot as plt"
   ]
  },
  {
   "cell_type": "code",
   "execution_count": 2,
   "outputs": [],
   "source": [
    "tokenizer = AutoTokenizer.from_pretrained('bert-base-uncased')"
   ],
   "metadata": {
    "collapsed": false
   }
  },
  {
   "cell_type": "code",
   "execution_count": 3,
   "outputs": [
    {
     "name": "stderr",
     "output_type": "stream",
     "text": [
      "Found cached dataset glue (C:/Users/Xiang/.cache/huggingface/datasets/mariosasko___glue/cola/1.0.0/dacbe3125aa31d7f70367a07a8a9e72a5a0bfeb5fc42e75c9db75b96da6053ad)\n"
     ]
    },
    {
     "data": {
      "text/plain": "  0%|          | 0/3 [00:00<?, ?it/s]",
      "application/vnd.jupyter.widget-view+json": {
       "version_major": 2,
       "version_minor": 0,
       "model_id": "1031771d73b346c28bb66d14ee2dfe61"
      }
     },
     "metadata": {},
     "output_type": "display_data"
    },
    {
     "data": {
      "text/plain": "  0%|          | 0/5 [00:00<?, ?ba/s]",
      "application/vnd.jupyter.widget-view+json": {
       "version_major": 2,
       "version_minor": 0,
       "model_id": "931511e1434448bba8608c68a8b0e28a"
      }
     },
     "metadata": {},
     "output_type": "display_data"
    },
    {
     "name": "stderr",
     "output_type": "stream",
     "text": [
      "Loading cached processed dataset at C:\\Users\\Xiang\\.cache\\huggingface\\datasets\\mariosasko___glue\\cola\\1.0.0\\dacbe3125aa31d7f70367a07a8a9e72a5a0bfeb5fc42e75c9db75b96da6053ad\\cache-d58930777b53039f.arrow\n",
      "Loading cached processed dataset at C:\\Users\\Xiang\\.cache\\huggingface\\datasets\\mariosasko___glue\\cola\\1.0.0\\dacbe3125aa31d7f70367a07a8a9e72a5a0bfeb5fc42e75c9db75b96da6053ad\\cache-00380c24e99ca37f.arrow\n"
     ]
    }
   ],
   "source": [
    "train_dataset,_,test_dataset = GLUE.get_torch_dataset(tokenizer, \"cola\", padding=\"max_length\", truncation=True, max_length=128)"
   ],
   "metadata": {
    "collapsed": false
   }
  },
  {
   "cell_type": "code",
   "execution_count": 4,
   "outputs": [
    {
     "data": {
      "text/plain": "(array([2.074e+03, 3.996e+03, 1.595e+03, 6.140e+02, 2.000e+02, 5.200e+01,\n        1.600e+01, 2.000e+00, 1.000e+00, 1.000e+00]),\n array([ 4. ,  8.3, 12.6, 16.9, 21.2, 25.5, 29.8, 34.1, 38.4, 42.7, 47. ]),\n <BarContainer object of 10 artists>)"
     },
     "execution_count": 4,
     "metadata": {},
     "output_type": "execute_result"
    },
    {
     "data": {
      "text/plain": "<Figure size 640x480 with 1 Axes>",
      "image/png": "[encoded data removed]"
     },
     "metadata": {},
     "output_type": "display_data"
    }
   ],
   "source": [
    "length = torch.sum(train_dataset[:][\"attention_mask\"],dim = 1).numpy()\n",
    "plt.hist(length)"
   ],
   "metadata": {
    "collapsed": false
   }
  },
  {
   "cell_type": "code",
   "execution_count": 5,
   "outputs": [
    {
     "data": {
      "text/plain": "(array([152., 377., 248., 123.,  69.,  38.,  15.,   7.,   8.,   6.]),\n array([ 5.,  8., 11., 14., 17., 20., 23., 26., 29., 32., 35.]),\n <BarContainer object of 10 artists>)"
     },
     "execution_count": 5,
     "metadata": {},
     "output_type": "execute_result"
    },
    {
     "data": {
      "text/plain": "<Figure size 640x480 with 1 Axes>",
      "image/png": "[encoded data removed]"
     },
     "metadata": {},
     "output_type": "display_data"
    }
   ],
   "source": [
    "length = torch.sum(test_dataset[:][\"attention_mask\"],dim = 1).numpy()\n",
    "plt.hist(length)"
   ],
   "metadata": {
    "collapsed": false
   }
  },
  {
   "cell_type": "markdown",
   "source": [
    "https://huggingface.co/docs/transformers/v4.26.1/en/main_classes/optimizer_schedules#schedules\n",
    "Reference of Scheduler"
   ],
   "metadata": {
    "collapsed": false
   }
  },
  {
   "cell_type": "code",
   "execution_count": 6,
   "outputs": [],
   "source": [
    "\n",
    "def constant_scheduler(\n",
    "    optimizer, num_warmup_steps, num_training_steps, lr_end=1e-7, power=1.0, last_epoch=-1\n",
    "):\n",
    "    def lambda_func(step:int):\n",
    "        return 1.\n",
    "\n",
    "    return LambdaLR(optimizer, lambda_func, last_epoch)"
   ],
   "metadata": {
    "collapsed": false
   }
  },
  {
   "cell_type": "code",
   "execution_count": 7,
   "outputs": [],
   "source": [
    "def prepare(sche, opt):\n",
    "    if sche == 'no':\n",
    "        sches = partial(constant_scheduler)\n",
    "    if sche == 'linear':\n",
    "        sches = partial(get_linear_schedule_with_warmup)\n",
    "    if sche == 'ord10':\n",
    "        sches = partial(get_polynomial_decay_schedule_with_warmup,power = 10.0)\n",
    "\n",
    "    if opt == 'Lion':\n",
    "        opts = partial(Lion)\n",
    "    if opt == 'Adam':\n",
    "        opts = partial(torch.optim.Adam)\n",
    "    if opt == 'AdamW':\n",
    "        opts = partial(torch.optim.AdamW)\n",
    "\n",
    "\n",
    "    return sches, opts"
   ],
   "metadata": {
    "collapsed": false
   }
  },
  {
   "cell_type": "code",
   "execution_count": 8,
   "outputs": [
    {
     "name": "stdout",
     "output_type": "stream",
     "text": [
      "8551 1043\n"
     ]
    }
   ],
   "source": [
    "print(len(train_dataset),len(test_dataset))"
   ],
   "metadata": {
    "collapsed": false
   }
  },
  {
   "cell_type": "code",
   "execution_count": 9,
   "outputs": [],
   "source": [
    "\n",
    "lr_list = [1e-5,1e-4,1e-3]\n",
    "scheduler_list = ['no',  'ord10']\n",
    "optimizer_list = ['Lion', 'AdamW']\n",
    "batch_size_list = [32,64]\n",
    "steps = 50"
   ],
   "metadata": {
    "collapsed": false
   }
  },
  {
   "cell_type": "code",
   "execution_count": 10,
   "outputs": [],
   "source": [
    "test_loader = DataLoader(test_dataset, shuffle = False, batch_size = 16)"
   ],
   "metadata": {
    "collapsed": false
   }
  },
  {
   "cell_type": "code",
   "execution_count": 11,
   "outputs": [
    {
     "data": {
      "text/plain": "{'labels': tensor([1, 1, 1, 1, 0, 0, 0, 1, 1, 1, 1, 1, 1, 0, 1, 1]),\n 'input_ids': tensor([[  101,  1996, 11279,  ...,     0,     0,     0],\n         [  101,  1996, 15871,  ...,     0,     0,     0],\n         [  101,  1996,  6228,  ...,     0,     0,     0],\n         ...,\n         [  101,  1996,  2062,  ...,     0,     0,     0],\n         [  101,  1996,  2062,  ...,     0,     0,     0],\n         [  101,  2296,  5205,  ...,     0,     0,     0]]),\n 'token_type_ids': tensor([[0, 0, 0,  ..., 0, 0, 0],\n         [0, 0, 0,  ..., 0, 0, 0],\n         [0, 0, 0,  ..., 0, 0, 0],\n         ...,\n         [0, 0, 0,  ..., 0, 0, 0],\n         [0, 0, 0,  ..., 0, 0, 0],\n         [0, 0, 0,  ..., 0, 0, 0]]),\n 'attention_mask': tensor([[1, 1, 1,  ..., 0, 0, 0],\n         [1, 1, 1,  ..., 0, 0, 0],\n         [1, 1, 1,  ..., 0, 0, 0],\n         ...,\n         [1, 1, 1,  ..., 0, 0, 0],\n         [1, 1, 1,  ..., 0, 0, 0],\n         [1, 1, 1,  ..., 0, 0, 0]])}"
     },
     "execution_count": 11,
     "metadata": {},
     "output_type": "execute_result"
    }
   ],
   "source": [
    "next(iter(test_loader))"
   ],
   "metadata": {
    "collapsed": false
   }
  },
  {
   "cell_type": "code",
   "execution_count": 12,
   "outputs": [],
   "source": [
    "device = torch.device(\"cuda\") if torch.cuda.is_available() else torch.device(\"cpu\")"
   ],
   "metadata": {
    "collapsed": false
   }
  },
  {
   "cell_type": "code",
   "execution_count": 13,
   "outputs": [
    {
     "name": "stderr",
     "output_type": "stream",
     "text": [
      "Some weights of the model checkpoint at bert-base-uncased were not used when initializing BertForSequenceClassification: ['cls.predictions.transform.LayerNorm.bias', 'cls.predictions.decoder.weight', 'cls.seq_relationship.bias', 'cls.predictions.transform.dense.weight', 'cls.predictions.transform.LayerNorm.weight', 'cls.predictions.transform.dense.bias', 'cls.seq_relationship.weight', 'cls.predictions.bias']\n",
      "- This IS expected if you are initializing BertForSequenceClassification from the checkpoint of a model trained on another task or with another architecture (e.g. initializing a BertForSequenceClassification model from a BertForPreTraining model).\n",
      "- This IS NOT expected if you are initializing BertForSequenceClassification from the checkpoint of a model that you expect to be exactly identical (initializing a BertForSequenceClassification model from a BertForSequenceClassification model).\n",
      "Some weights of BertForSequenceClassification were not initialized from the model checkpoint at bert-base-uncased and are newly initialized: ['classifier.weight', 'classifier.bias']\n",
      "You should probably TRAIN this model on a down-stream task to be able to use it for predictions and inference.\n"
     ]
    }
   ],
   "source": [
    "test_input = ['HA HA HA.','you are pig right?','You are bad.']\n",
    "test_input = tokenizer(test_input,return_tensors ='pt', padding = True)\n",
    "model = BertForSequenceClassification.from_pretrained(\"bert-base-uncased\")\n",
    "with torch.no_grad():\n",
    "    logits = model(**test_input).logits\n",
    "\n",
    "predicted_class_id = logits.argmax().item()"
   ],
   "metadata": {
    "collapsed": false
   }
  },
  {
   "cell_type": "code",
   "execution_count": 14,
   "outputs": [
    {
     "name": "stderr",
     "output_type": "stream",
     "text": [
      "Some weights of the model checkpoint at bert-base-uncased were not used when initializing BertForSequenceClassification: ['cls.predictions.transform.LayerNorm.bias', 'cls.predictions.decoder.weight', 'cls.seq_relationship.bias', 'cls.predictions.transform.dense.weight', 'cls.predictions.transform.LayerNorm.weight', 'cls.predictions.transform.dense.bias', 'cls.seq_relationship.weight', 'cls.predictions.bias']\n",
      "- This IS expected if you are initializing BertForSequenceClassification from the checkpoint of a model trained on another task or with another architecture (e.g. initializing a BertForSequenceClassification model from a BertForPreTraining model).\n",
      "- This IS NOT expected if you are initializing BertForSequenceClassification from the checkpoint of a model that you expect to be exactly identical (initializing a BertForSequenceClassification model from a BertForSequenceClassification model).\n",
      "Some weights of BertForSequenceClassification were not initialized from the model checkpoint at bert-base-uncased and are newly initialized: ['classifier.weight', 'classifier.bias']\n",
      "You should probably TRAIN this model on a down-stream task to be able to use it for predictions and inference.\n"
     ]
    },
    {
     "name": "stdout",
     "output_type": "stream",
     "text": [
      "step: 1, loss:0.83526826\n",
      "step: 2, loss:0.76439452\n",
      "step: 3, loss:0.72929168\n",
      "step: 4, loss:0.74145287\n",
      "step: 5, loss:0.67675912\n",
      "step: 6, loss:0.69898307\n",
      "step: 7, loss:0.68771994\n",
      "step: 8, loss:0.68408185\n",
      "step: 9, loss:0.68701917\n",
      "step:9, matthews_corr:0.058937\n",
      "step: 10, loss:0.70686907\n",
      "step: 11, loss:0.66275573\n",
      "step: 12, loss:0.61152017\n",
      "step: 13, loss:0.63295269\n",
      "step: 14, loss:0.69396859\n",
      "step: 15, loss:0.58496827\n",
      "step: 16, loss:0.62796795\n",
      "step: 17, loss:0.62569147\n",
      "step: 18, loss:0.43669084\n",
      "step: 19, loss:0.72541463\n",
      "step:19, matthews_corr:0.046356\n",
      "step: 20, loss:0.50041509\n",
      "step: 21, loss:0.46055418\n",
      "step: 22, loss:0.68195480\n",
      "step: 23, loss:0.92805791\n",
      "step: 24, loss:0.81118536\n",
      "step: 25, loss:0.65127766\n",
      "step: 26, loss:0.73938555\n",
      "step: 27, loss:0.70798683\n",
      "step: 28, loss:0.74602413\n",
      "step: 29, loss:0.66127539\n",
      "step:29, matthews_corr:0.058937\n",
      "step: 30, loss:0.60650969\n",
      "step: 31, loss:0.66638631\n",
      "step: 32, loss:0.59650803\n",
      "step: 33, loss:0.54047441\n",
      "step: 34, loss:0.59958255\n",
      "step: 35, loss:0.65951008\n",
      "step: 36, loss:0.68473244\n",
      "step: 37, loss:0.70135587\n",
      "step: 38, loss:0.60946107\n",
      "step: 39, loss:0.56977755\n",
      "step:39, matthews_corr:0.053140\n",
      "step: 40, loss:0.64948475\n",
      "step: 41, loss:0.68026096\n",
      "step: 42, loss:0.68333960\n",
      "step: 43, loss:0.68452233\n",
      "step: 44, loss:0.63705391\n",
      "step: 45, loss:0.69266993\n",
      "step: 46, loss:0.70654237\n",
      "step: 47, loss:0.53473818\n",
      "step: 48, loss:0.68055809\n",
      "step: 49, loss:0.57617635\n"
     ]
    },
    {
     "ename": "KeyboardInterrupt",
     "evalue": "",
     "output_type": "error",
     "traceback": [
      "\u001B[1;31m---------------------------------------------------------------------------\u001B[0m",
      "\u001B[1;31mKeyboardInterrupt\u001B[0m                         Traceback (most recent call last)",
      "Cell \u001B[1;32mIn[14], line 41\u001B[0m\n\u001B[0;32m     39\u001B[0m logits \u001B[38;5;241m=\u001B[39m []\n\u001B[0;32m     40\u001B[0m \u001B[38;5;28;01mfor\u001B[39;00m X \u001B[38;5;129;01min\u001B[39;00m test_loader:\n\u001B[1;32m---> 41\u001B[0m     batch \u001B[38;5;241m=\u001B[39m {k: v\u001B[38;5;241m.\u001B[39mto(device) \u001B[38;5;28;01mfor\u001B[39;00m k, v \u001B[38;5;129;01min\u001B[39;00m X\u001B[38;5;241m.\u001B[39mitems()}\n\u001B[0;32m     42\u001B[0m     logits\u001B[38;5;241m.\u001B[39mappend(model(\u001B[38;5;241m*\u001B[39m\u001B[38;5;241m*\u001B[39mbatch)\u001B[38;5;241m.\u001B[39mlogits)\n\u001B[0;32m     43\u001B[0m total_test \u001B[38;5;241m=\u001B[39m torch\u001B[38;5;241m.\u001B[39mconcatenate(logits, dim \u001B[38;5;241m=\u001B[39m \u001B[38;5;241m0\u001B[39m)\n",
      "Cell \u001B[1;32mIn[14], line 41\u001B[0m, in \u001B[0;36m<dictcomp>\u001B[1;34m(.0)\u001B[0m\n\u001B[0;32m     39\u001B[0m logits \u001B[38;5;241m=\u001B[39m []\n\u001B[0;32m     40\u001B[0m \u001B[38;5;28;01mfor\u001B[39;00m X \u001B[38;5;129;01min\u001B[39;00m test_loader:\n\u001B[1;32m---> 41\u001B[0m     batch \u001B[38;5;241m=\u001B[39m {k: \u001B[43mv\u001B[49m\u001B[38;5;241;43m.\u001B[39;49m\u001B[43mto\u001B[49m\u001B[43m(\u001B[49m\u001B[43mdevice\u001B[49m\u001B[43m)\u001B[49m \u001B[38;5;28;01mfor\u001B[39;00m k, v \u001B[38;5;129;01min\u001B[39;00m X\u001B[38;5;241m.\u001B[39mitems()}\n\u001B[0;32m     42\u001B[0m     logits\u001B[38;5;241m.\u001B[39mappend(model(\u001B[38;5;241m*\u001B[39m\u001B[38;5;241m*\u001B[39mbatch)\u001B[38;5;241m.\u001B[39mlogits)\n\u001B[0;32m     43\u001B[0m total_test \u001B[38;5;241m=\u001B[39m torch\u001B[38;5;241m.\u001B[39mconcatenate(logits, dim \u001B[38;5;241m=\u001B[39m \u001B[38;5;241m0\u001B[39m)\n",
      "\u001B[1;31mKeyboardInterrupt\u001B[0m: "
     ]
    }
   ],
   "source": [
    "# Training\n",
    "\n",
    "loss_mat = np.zeros((len(batch_size_list),len(scheduler_list), len(optimizer_list), len(lr_list),steps))\n",
    "\n",
    "report_step = 1 # evaluate test metric each step\n",
    "metric_mat = np.zeros((len(batch_size_list),len(scheduler_list), len(optimizer_list), len(lr_list),steps//report_step,2))\n",
    "for i,this_batch_size in enumerate(batch_size_list):\n",
    "    for j,this_scheduler in enumerate(scheduler_list):\n",
    "        for k,this_optimizer in enumerate(optimizer_list):\n",
    "            for m, this_lr in enumerate(lr_list):\n",
    "\n",
    "                model = BertForSequenceClassification.from_pretrained(\"bert-base-uncased\").to(device)\n",
    "                train_loader = DataLoader(train_dataset, batch_size=this_batch_size)\n",
    "                sche, opt = prepare(this_scheduler, this_optimizer)\n",
    "                optimizer = opt(model.parameters(), lr = this_lr)\n",
    "                scheduler = sche(optimizer, num_warmup_steps=int(steps/10),num_training_steps=steps)\n",
    "                step = 0\n",
    "                print(f'Start training for: sche:{this_scheduler},opt:{this_optimizer},batchsize:{this_batch_size}, lr:{this_lr}')\n",
    "\n",
    "                while True:\n",
    "\n",
    "                    for X in train_loader:\n",
    "                        model.train()\n",
    "                        optimizer.zero_grad()\n",
    "                        batch = {k: v.to(device) for k, v in X.items()}\n",
    "                        loss = model(**batch).loss\n",
    "                        print(f\"step: {step+1}, loss:{loss.item():.8f}\")\n",
    "\n",
    "                        loss_mat[i,j,k,m,step] = loss.item()\n",
    "\n",
    "                        loss.backward()\n",
    "                        optimizer.step()\n",
    "                        scheduler.step()\n",
    "                        step += 1\n",
    "\n",
    "                    # valid\n",
    "                        if (step)%report_step == 0:\n",
    "                            model.eval()\n",
    "                            with torch.no_grad():\n",
    "                                logits = []\n",
    "                                labelss = []\n",
    "                                for X in test_loader:\n",
    "                                    batch = {k: v.to(device) for k, v in X.items()}\n",
    "                                    logits.append(model(**batch).logits)\n",
    "                                    labelss.append(batch['labels'])\n",
    "                                total_test = torch.concatenate(logits, dim = 0)\n",
    "                                _,predicted = torch.max(total_test,dim = 1)\n",
    "                                real_label =torch.concatenate(labelss,dim=0).cpu().numpy()\n",
    "                                predicted = predicted.cpu().numpy()\n",
    "                                metric = matthews_corrcoef(real_label, predicted)\n",
    "                                acc = np.mean(predicted==real_label)\n",
    "                                print(i,j,k,m,step//report_step)\n",
    "                                metric_mat[i,j,k,m,step//report_step - 1,0] = metric\n",
    "                                metric_mat[i,j,k,m,step//report_step - 1,1] = acc\n",
    "                                print(f\"step:{step}, matthews_corr:{metric:.6f}, Acc:{acc*100:4f}%\")\n",
    "\n",
    "                        if step == steps:\n",
    "                            break\n",
    "                    if step == steps:\n",
    "                      break\n",
    "\n",
    "                del model\n",
    "                del optimizer\n",
    "                del scheduler\n",
    "                del train_loader\n",
    "                torch.cuda.empty_cache()\n",
    "\n",
    "\n"
   ],
   "metadata": {
    "collapsed": false
   }
  }
 ],
 "metadata": {
  "kernelspec": {
   "display_name": "Python 3",
   "language": "python",
   "name": "python3"
  },
  "language_info": {
   "codemirror_mode": {
    "name": "ipython",
    "version": 2
   },
   "file_extension": ".py",
   "mimetype": "text/x-python",
   "name": "python",
   "nbconvert_exporter": "python",
   "pygments_lexer": "ipython2",
   "version": "2.7.6"
  }
 },
 "nbformat": 4,
 "nbformat_minor": 0
}
